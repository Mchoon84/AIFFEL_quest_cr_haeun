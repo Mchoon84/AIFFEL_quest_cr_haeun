{
  "nbformat": 4,
  "nbformat_minor": 0,
  "metadata": {
    "colab": {
      "provenance": [],
      "include_colab_link": true
    },
    "kernelspec": {
      "name": "python3",
      "display_name": "Python 3"
    },
    "language_info": {
      "name": "python"
    }
  },
  "cells": [
    {
      "cell_type": "markdown",
      "metadata": {
        "id": "view-in-github",
        "colab_type": "text"
      },
      "source": [
        "<a href=\"https://colab.research.google.com/github/lhe0186/AIFFEL_quest_cr/blob/main/Python/Quest04/quest04.ipynb\" target=\"_parent\"><img src=\"https://colab.research.google.com/assets/colab-badge.svg\" alt=\"Open In Colab\"/></a>"
      ]
    },
    {
      "cell_type": "code",
      "source": [
        "# 사용자로부터 두 개의 정수와 연산자(+,-,*,/,**)를 입력받아 계산 결과를 출력하는 프로그램을 만들어주세요\n",
        "\n",
        "\n",
        "#  조건\n",
        "# 사용자가 입력한 값이 정수가 아닌 경우 ValueError를 처리하여 적절한 오류 메시지를 출력해야 합니다 ㅇ\n",
        "# 정수가 입력될 때 까지 “잘못된 입력입니다. 정수를 입력해주세요.”를 출력하며 다시 입력받기를 시도합니다.ㅇ\n",
        "# 나눗셈 연산 시 두 번째 정수가 0인 경우 ZeroDivisionError를 처리하여 적절한 오류 메시지를 출력합니다.\n",
        "# 사용자가 지원하지 않는 연산자를 입력한 경우 적절한 오류 메시지를 출력합니다.\n",
        "# math 모듈을 사용하여 제곱 연산(**)을 지원합니다.\n",
        "# 계산기를 통해 계속 계산을 할 것인지 입력받습니다.\n",
        "\n",
        "import math # math 모듈 도입\n",
        "\n",
        "while True: # 반복문 만들기\n",
        "\n",
        "      try: #입력받은 숫자가 정수인지 판단\n",
        "       num1 = int(input(\"첫 번째 정수를 입력하시오: \"))\n",
        "       num2 = int(input(\"두 번째 정수를 입력하시오: \"))\n",
        "\n",
        "      except ValueError: # 입력 받은 수에 에러 있을 경우\n",
        "       print('잘못된 연산자입니다. 정수를 입력해주세요.')\n",
        "       continue #반복문 다시 돌면서 정수를 입력 받기\n",
        "\n",
        "      operator = input(\"연산자를 입력하시오 (+,-,*,/,**): \")\n",
        "      if operator not in ['+','-','*','/','**']: #연산자 확인\n",
        "        print(\"잘못된 연산자입니다.\")\n",
        "        continue #반복문 다시 돌면서 연산자를 입력 받기\n",
        "      try: #연산자에 따라 계산\n",
        "        if operator == '+':\n",
        "            result = num1 + num2\n",
        "        elif operator == '-':\n",
        "            result = num1 - num2\n",
        "        elif operator == '*':\n",
        "            result = num1 * num2\n",
        "        elif operator == '/':\n",
        "            if num2 == 0: #나눗셈 할때 0으로 나눌때 에러 문구 띄우기\n",
        "                raise ZeroDivisionError(\"0으로 나눌 수 없습니다.\")\n",
        "            else :\n",
        "                result = num1 / num2\n",
        "        elif operator == '**':\n",
        "            result = math.pow(num1,num2) #거듭제곱 계산\n",
        "      except ZeroDivisionError:\n",
        "        print(\"0으로 나눌 수 없습니다.\")\n",
        "        continue #반복문 다시 돌면서 전체를 다시 시작\n",
        "\n",
        "      print(f'결과: {result}')\n",
        "      # break\n",
        "      continue_str = input('계속 계산기 사용하시겠습니다까?(yes/no)').lower()\n",
        "      if continue_str != 'yes':\n",
        "       print('계산기 종료되었습니다.')\n",
        "       break #반복문 나가서 다시 시작\n"
      ],
      "metadata": {
        "id": "qKDM25Wfibi_",
        "colab": {
          "base_uri": "https://localhost:8080/"
        },
        "outputId": "de9969a2-6fd0-41fd-8ad3-27533c44395e"
      },
      "execution_count": null,
      "outputs": [
        {
          "metadata": {
            "tags": null
          },
          "name": "stdout",
          "output_type": "stream",
          "text": [
            "0으로 나눌 수 없습니다.\n"
          ]
        }
      ]
    },
    {
      "cell_type": "markdown",
      "source": [
        "## 회고록: 안진용, 이하은\n",
        "회고(안진용): 퀘스트를 진행하면서 들여쓰기와 try, except 예외처리에 대해 더 복습을 해보았던거 같다.\n",
        "특히 반복문 while문을 쓰면서 break와 countinue의 역할을 더욱 더 이해되었다.\n",
        "\n",
        "회고(이하은): 여러 개의 반복문이 동시에 존재하는 경우 코드 실행의 흐름을 파악하는 부분에서 아직 취약한 것 같습니다. 앞으로 코드의 흐름을 읽고 분석하는 데에 노력하고 많은 연습을 하도록 하겠습니다."
      ],
      "metadata": {
        "id": "bDEwt5uw-AoE"
      }
    }
  ]
}